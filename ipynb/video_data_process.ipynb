{
 "cells": [
  {
   "cell_type": "code",
   "execution_count": 2,
   "id": "7b642866",
   "metadata": {},
   "outputs": [],
   "source": [
    "import os\n",
    "import pandas as pd\n",
    "import numpy as np"
   ]
  },
  {
   "cell_type": "code",
   "execution_count": 3,
   "id": "71050623",
   "metadata": {},
   "outputs": [],
   "source": [
    "source_dir = r'F:\\Graduate materials\\论文\\代码\\92个达人的数据\\新'\n",
    "df =  pd.DataFrame()\n",
    "for root, dirs, files in os.walk(source_dir):\n",
    "    for file in files:\n",
    "        if '视频记录导出' in file:\n",
    "            file_name = source_dir + '\\\\'+ file\n",
    "            df1 = pd.read_excel(file_name).iloc[0:2,0:2]\n",
    "            df2 =  pd.read_excel(file_name,header=3)\n",
    "            df2['互动率'] =df2['互动率'].str.replace('%', '').astype(float) / 100\n",
    "            for feature in df2.columns:\n",
    "                if feature not in ['视频热度','点赞','评论','分享','收藏','互动量','互动率']:\n",
    "                    df2 = df2.drop(columns = feature)\n",
    "            df3 = df2.mean()\n",
    "            id = df1.iloc[0,1]\n",
    "            df3['抖音号'] = id\n",
    "            df3['视频数'] = df2['互动率'].count()\n",
    "            df = pd.concat([df,df3.to_frame().T ], ignore_index=True)\n"
   ]
  },
  {
   "cell_type": "code",
   "execution_count": 4,
   "id": "bfb630a1",
   "metadata": {},
   "outputs": [
    {
     "data": {
      "text/plain": [
       "'JGPYZBJ'"
      ]
     },
     "execution_count": 4,
     "metadata": {},
     "output_type": "execute_result"
    }
   ],
   "source": [
    "file = '飞瓜数据_交个朋友直播间_视频记录导出_20240101_20240630.xls'\n",
    "file_name = source_dir + '\\\\'+ file\n",
    "df1 = pd.read_excel(file_name).iloc[0:2,0:2]\n",
    "df1\n",
    "id = df1.iloc[0,1]\n",
    "id"
   ]
  },
  {
   "cell_type": "code",
   "execution_count": null,
   "id": "51db94eb",
   "metadata": {},
   "outputs": [],
   "source": []
  }
 ],
 "metadata": {
  "kernelspec": {
   "display_name": "Python 3.8 (transformer_git)",
   "language": "python",
   "name": "transformer_git"
  },
  "language_info": {
   "codemirror_mode": {
    "name": "ipython",
    "version": 3
   },
   "file_extension": ".py",
   "mimetype": "text/x-python",
   "name": "python",
   "nbconvert_exporter": "python",
   "pygments_lexer": "ipython3",
   "version": "3.8.19"
  }
 },
 "nbformat": 4,
 "nbformat_minor": 5
}
